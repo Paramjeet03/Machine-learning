{
 "cells": [
  {
   "cell_type": "markdown",
   "metadata": {},
   "source": [
    "# Computer Vision :-\n",
    "\n",
    "> Open cv is a libary in py. which use for working on image.\n",
    "\n",
    "> opencv use (B,G,R) Format.\n",
    "\n",
    "# Image :-\n",
    "\n",
    "> It is a collection of pixels.\n",
    "\n",
    "> pixel is really a matrix which have 3 value (B,G,R). The  value range from (0-255)\n"
   ]
  },
  {
   "cell_type": "code",
   "execution_count": 43,
   "metadata": {},
   "outputs": [
    {
     "name": "stdout",
     "output_type": "stream",
     "text": [
      "Requirement already satisfied: opencv-python in c:\\users\\paramjeet\\appdata\\local\\programs\\python\\python311\\lib\\site-packages (4.9.0.80)\n",
      "Requirement already satisfied: numpy>=1.21.2 in c:\\users\\paramjeet\\appdata\\local\\programs\\python\\python311\\lib\\site-packages (from opencv-python) (1.26.4)\n",
      "Note: you may need to restart the kernel to use updated packages.\n"
     ]
    }
   ],
   "source": [
    "pip install opencv-python\n"
   ]
  },
  {
   "cell_type": "code",
   "execution_count": 44,
   "metadata": {},
   "outputs": [],
   "source": [
    "import cv2"
   ]
  },
  {
   "cell_type": "code",
   "execution_count": 45,
   "metadata": {},
   "outputs": [],
   "source": [
    "img=cv2.imread(r\"C:\\Users\\Paramjeet\\Desktop\\MACHINE LEARNING\\Image\\demo.jpg\")\n",
    "cv2.imshow(\"Suraj\",img)\n",
    "cv2.waitKey(10000 ) # in ms 1000ms == 1sec\n",
    "cv2.destroyWindow(\"Suraj\")"
   ]
  },
  {
   "cell_type": "code",
   "execution_count": 46,
   "metadata": {},
   "outputs": [],
   "source": [
    "img=cv2.imread(r\"C:\\Users\\Paramjeet\\Desktop\\MACHINE LEARNING\\Image\\demo.jpg\")"
   ]
  },
  {
   "cell_type": "code",
   "execution_count": 47,
   "metadata": {},
   "outputs": [],
   "source": [
    "# mixing the image pixel\n",
    "f_m=img.flatten()"
   ]
  },
  {
   "cell_type": "code",
   "execution_count": 48,
   "metadata": {},
   "outputs": [],
   "source": [
    "import numpy as np\n",
    "np.random.shuffle(f_m)\n",
    "f_m=f_m.reshape(735,742,3)\n"
   ]
  },
  {
   "cell_type": "code",
   "execution_count": 49,
   "metadata": {},
   "outputs": [],
   "source": [
    "cv2.imshow(\"Suraj\",f_m)\n",
    "cv2.waitKey(10000 ) # in ms 1000ms == 1sec\n",
    "cv2.destroyWindow(\"Suraj\") # so we can arrange pixel in sequance so we can create any type image."
   ]
  },
  {
   "cell_type": "markdown",
   "metadata": {},
   "source": [
    "# Broadcasting in image :-\n",
    "\n",
    ">  Image is a base is array and array is support broadcasting\n"
   ]
  },
  {
   "cell_type": "code",
   "execution_count": 50,
   "metadata": {},
   "outputs": [
    {
     "data": {
      "text/plain": [
       "array([10, 20, 30, 40])"
      ]
     },
     "execution_count": 50,
     "metadata": {},
     "output_type": "execute_result"
    }
   ],
   "source": [
    "import numpy as np \n",
    "b=np.arange(1,5)\n",
    "b*10"
   ]
  },
  {
   "cell_type": "code",
   "execution_count": 51,
   "metadata": {},
   "outputs": [],
   "source": [
    "image=cv2.imread(r\"C:\\Users\\Paramjeet\\Desktop\\MACHINE LEARNING\\Image\\demo.jpg\") \n",
    "a=image-5\n",
    "cv2.imshow(\"Original\",image)\n",
    "cv2.imshow(\"New\",a)\n",
    "cv2.waitKey()\n",
    "cv2.destroyAllWindows()"
   ]
  },
  {
   "cell_type": "code",
   "execution_count": 52,
   "metadata": {},
   "outputs": [],
   "source": [
    "# color image to black and white \n",
    "# option 1 :- \n",
    "image=cv2.imread(r\"C:\\Users\\Paramjeet\\Desktop\\MACHINE LEARNING\\Image\\demo.jpg\",0)\n",
    "cv2.imshow(\"hello\",image)\n",
    "cv2.waitKey()\n",
    "cv2.destroyWindow(\"hello\")"
   ]
  },
  {
   "cell_type": "code",
   "execution_count": 53,
   "metadata": {},
   "outputs": [],
   "source": [
    "# option 2:-\n",
    "image=cv2.imread(r\"C:\\Users\\Paramjeet\\Desktop\\MACHINE LEARNING\\Image\\demo.jpg\")\n",
    "a=cv2.cvtColor(image,cv2.COLOR_BGR2GRAY)\n",
    "cv2.imshow(\"hello\",a)\n",
    "cv2.waitKey()\n",
    "cv2.destroyWindow(\"hello\")"
   ]
  },
  {
   "cell_type": "code",
   "execution_count": 54,
   "metadata": {},
   "outputs": [],
   "source": [
    "# option 3:- by color spliting .\n",
    "image=cv2.imread(r\"C:\\Users\\Paramjeet\\Desktop\\MACHINE LEARNING\\Image\\demo.jpg\")\n",
    "b,g,r=cv2.split(image)\n",
    "cv2.imshow(\"blue\",b)\n",
    "cv2.imshow(\"Green\",g)\n",
    "cv2.imshow(\"Red\",r)\n",
    "cv2.waitKey()\n",
    "cv2.destroyAllWindows()"
   ]
  },
  {
   "cell_type": "code",
   "execution_count": 55,
   "metadata": {},
   "outputs": [
    {
     "data": {
      "text/plain": [
       "array([[124, 124, 124, ..., 192, 196, 200],\n",
       "       [124, 124, 124, ..., 194, 198, 202],\n",
       "       [124, 124, 124, ..., 197, 200, 205],\n",
       "       ...,\n",
       "       [250, 248, 250, ..., 251, 250, 251],\n",
       "       [249, 248, 248, ..., 252, 250, 252],\n",
       "       [251, 251, 251, ..., 253, 253, 253]], dtype=uint8)"
      ]
     },
     "execution_count": 55,
     "metadata": {},
     "output_type": "execute_result"
    }
   ],
   "source": [
    "b"
   ]
  },
  {
   "cell_type": "code",
   "execution_count": 56,
   "metadata": {},
   "outputs": [
    {
     "data": {
      "text/plain": [
       "array([[117, 117, 117, ..., 195, 199, 203],\n",
       "       [117, 117, 117, ..., 197, 201, 205],\n",
       "       [117, 117, 117, ..., 200, 203, 208],\n",
       "       ...,\n",
       "       [251, 251, 252, ..., 255, 255, 255],\n",
       "       [252, 252, 251, ..., 254, 254, 254],\n",
       "       [255, 255, 255, ..., 255, 255, 255]], dtype=uint8)"
      ]
     },
     "execution_count": 56,
     "metadata": {},
     "output_type": "execute_result"
    }
   ],
   "source": [
    "g"
   ]
  },
  {
   "cell_type": "code",
   "execution_count": 57,
   "metadata": {},
   "outputs": [
    {
     "data": {
      "text/plain": [
       "array([[108, 108, 108, ..., 203, 207, 211],\n",
       "       [108, 108, 108, ..., 205, 209, 213],\n",
       "       [108, 108, 108, ..., 205, 208, 213],\n",
       "       ...,\n",
       "       [255, 255, 255, ..., 255, 255, 255],\n",
       "       [255, 255, 255, ..., 255, 255, 255],\n",
       "       [255, 255, 255, ..., 255, 255, 255]], dtype=uint8)"
      ]
     },
     "execution_count": 57,
     "metadata": {},
     "output_type": "execute_result"
    }
   ],
   "source": [
    "r"
   ]
  },
  {
   "cell_type": "code",
   "execution_count": 58,
   "metadata": {},
   "outputs": [
    {
     "data": {
      "text/plain": [
       "array([[[124, 117, 108],\n",
       "        [124, 117, 108],\n",
       "        [124, 117, 108],\n",
       "        ...,\n",
       "        [192, 195, 203],\n",
       "        [196, 199, 207],\n",
       "        [200, 203, 211]],\n",
       "\n",
       "       [[124, 117, 108],\n",
       "        [124, 117, 108],\n",
       "        [124, 117, 108],\n",
       "        ...,\n",
       "        [194, 197, 205],\n",
       "        [198, 201, 209],\n",
       "        [202, 205, 213]],\n",
       "\n",
       "       [[124, 117, 108],\n",
       "        [124, 117, 108],\n",
       "        [124, 117, 108],\n",
       "        ...,\n",
       "        [197, 200, 205],\n",
       "        [200, 203, 208],\n",
       "        [205, 208, 213]],\n",
       "\n",
       "       ...,\n",
       "\n",
       "       [[250, 251, 255],\n",
       "        [248, 251, 255],\n",
       "        [250, 252, 255],\n",
       "        ...,\n",
       "        [251, 255, 255],\n",
       "        [250, 255, 255],\n",
       "        [251, 255, 255]],\n",
       "\n",
       "       [[249, 252, 255],\n",
       "        [248, 252, 255],\n",
       "        [248, 251, 255],\n",
       "        ...,\n",
       "        [252, 254, 255],\n",
       "        [250, 254, 255],\n",
       "        [252, 254, 255]],\n",
       "\n",
       "       [[251, 255, 255],\n",
       "        [251, 255, 255],\n",
       "        [251, 255, 255],\n",
       "        ...,\n",
       "        [253, 255, 255],\n",
       "        [253, 255, 255],\n",
       "        [253, 255, 255]]], dtype=uint8)"
      ]
     },
     "execution_count": 58,
     "metadata": {},
     "output_type": "execute_result"
    }
   ],
   "source": [
    "image"
   ]
  },
  {
   "cell_type": "code",
   "execution_count": 59,
   "metadata": {},
   "outputs": [],
   "source": [
    "# merge the all color :-\n",
    "rt=cv2.merge([b,g,r])\n",
    "cv2.imshow(\"Red\",rt)\n",
    "cv2.waitKey()\n",
    "cv2.destroyAllWindows()"
   ]
  },
  {
   "cell_type": "code",
   "execution_count": 60,
   "metadata": {},
   "outputs": [],
   "source": [
    "\n",
    "image=cv2.imread(r\"C:\\Users\\Paramjeet\\Desktop\\MACHINE LEARNING\\Image\\me.jpg\")\n",
    "b,g,r=cv2.split(image)\n",
    "cv2.imshow(\"blue\",b)\n",
    "cv2.imshow(\"Green\",g)\n",
    "cv2.imshow(\"Red\",r)\n",
    "cv2.waitKey()\n",
    "cv2.destroyAllWindows()"
   ]
  },
  {
   "cell_type": "code",
   "execution_count": 61,
   "metadata": {},
   "outputs": [],
   "source": [
    "# Play with image.\n",
    "img7=cv2.imread(r\"C:\\Users\\Paramjeet\\Desktop\\MACHINE LEARNING\\Image\\demo.jpg\")\n",
    "img2=cv2.convertScaleAbs(img,alpha=2,beta=45)   #alpha works on edgeor sharpness\n",
    "cv2.imshow(\"Scale\",img2) \n",
    "cv2.imshow(\"Orignal\",img7)                        #beta work on brigtness.\n",
    "cv2.waitKey(10000 ) \n",
    "cv2.destroyAllWindows()"
   ]
  },
  {
   "cell_type": "code",
   "execution_count": 62,
   "metadata": {},
   "outputs": [],
   "source": [
    "# marge  2 photos\n",
    "image=cv2.imread(r\"C:\\Users\\Paramjeet\\Desktop\\MACHINE LEARNING\\Image\\me.jpg\")\n",
    "img3=cv2.resize(image,(735,742))\n",
    "cv2.imwrite(r\"C:\\Users\\Paramjeet\\Desktop\\MACHINE LEARNING\\Image\\me_resize.jpg\",img3)\n",
    "img=cv2.imread(r\"C:\\Users\\Paramjeet\\Desktop\\MACHINE LEARNING\\Image\\me_resize.jpg\")\n",
    "cv2.imshow(\"orginal\",image) \n",
    "cv2.imshow(\"Resize\",img)                        #beta work on brigtness.\n",
    "cv2.waitKey() \n",
    "cv2.destroyAllWindows()"
   ]
  },
  {
   "cell_type": "code",
   "execution_count": 69,
   "metadata": {},
   "outputs": [],
   "source": [
    "a=cv2.addWeighted(img,0.5,img7,0.3,10) \n",
    "cv2.imshow(\"Merge\",a)                    \n",
    "cv2.waitKey() \n",
    "cv2.destroyAllWindows()"
   ]
  },
  {
   "cell_type": "code",
   "execution_count": null,
   "metadata": {},
   "outputs": [],
   "source": []
  }
 ],
 "metadata": {
  "kernelspec": {
   "display_name": "Python 3",
   "language": "python",
   "name": "python3"
  },
  "language_info": {
   "codemirror_mode": {
    "name": "ipython",
    "version": 3
   },
   "file_extension": ".py",
   "mimetype": "text/x-python",
   "name": "python",
   "nbconvert_exporter": "python",
   "pygments_lexer": "ipython3",
   "version": "3.11.4"
  }
 },
 "nbformat": 4,
 "nbformat_minor": 2
}
