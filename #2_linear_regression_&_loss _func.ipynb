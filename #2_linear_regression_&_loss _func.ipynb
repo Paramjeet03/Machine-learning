{
 "cells": [
  {
   "cell_type": "markdown",
   "metadata": {},
   "source": [
    "# linear regression :- it is the algo of ml which is use for prediction. it based on the equ. of line (y=mx+c)."
   ]
  },
  {
   "cell_type": "code",
   "execution_count": 9,
   "metadata": {},
   "outputs": [],
   "source": [
    "import numpy as np\n",
    "import pandas as pb\n",
    "import matplotlib.pyplot as plt \n",
    "from sklearn.linear_model import LinearRegression "
   ]
  },
  {
   "cell_type": "code",
   "execution_count": 10,
   "metadata": {},
   "outputs": [
    {
     "data": {
      "text/html": [
       "<div>\n",
       "<style scoped>\n",
       "    .dataframe tbody tr th:only-of-type {\n",
       "        vertical-align: middle;\n",
       "    }\n",
       "\n",
       "    .dataframe tbody tr th {\n",
       "        vertical-align: top;\n",
       "    }\n",
       "\n",
       "    .dataframe thead th {\n",
       "        text-align: right;\n",
       "    }\n",
       "</style>\n",
       "<table border=\"1\" class=\"dataframe\">\n",
       "  <thead>\n",
       "    <tr style=\"text-align: right;\">\n",
       "      <th></th>\n",
       "      <th>Age</th>\n",
       "      <th>Gender</th>\n",
       "      <th>Education Level</th>\n",
       "      <th>Job Title</th>\n",
       "      <th>Years of Experience</th>\n",
       "      <th>Salary</th>\n",
       "    </tr>\n",
       "  </thead>\n",
       "  <tbody>\n",
       "    <tr>\n",
       "      <th>0</th>\n",
       "      <td>32.0</td>\n",
       "      <td>Male</td>\n",
       "      <td>Bachelor's</td>\n",
       "      <td>Software Engineer</td>\n",
       "      <td>5.0</td>\n",
       "      <td>90000.0</td>\n",
       "    </tr>\n",
       "    <tr>\n",
       "      <th>1</th>\n",
       "      <td>28.0</td>\n",
       "      <td>Female</td>\n",
       "      <td>Master's</td>\n",
       "      <td>Data Analyst</td>\n",
       "      <td>3.0</td>\n",
       "      <td>65000.0</td>\n",
       "    </tr>\n",
       "    <tr>\n",
       "      <th>2</th>\n",
       "      <td>45.0</td>\n",
       "      <td>Male</td>\n",
       "      <td>PhD</td>\n",
       "      <td>Senior Manager</td>\n",
       "      <td>15.0</td>\n",
       "      <td>150000.0</td>\n",
       "    </tr>\n",
       "    <tr>\n",
       "      <th>3</th>\n",
       "      <td>36.0</td>\n",
       "      <td>Female</td>\n",
       "      <td>Bachelor's</td>\n",
       "      <td>Sales Associate</td>\n",
       "      <td>7.0</td>\n",
       "      <td>60000.0</td>\n",
       "    </tr>\n",
       "    <tr>\n",
       "      <th>4</th>\n",
       "      <td>52.0</td>\n",
       "      <td>Male</td>\n",
       "      <td>Master's</td>\n",
       "      <td>Director</td>\n",
       "      <td>20.0</td>\n",
       "      <td>200000.0</td>\n",
       "    </tr>\n",
       "    <tr>\n",
       "      <th>...</th>\n",
       "      <td>...</td>\n",
       "      <td>...</td>\n",
       "      <td>...</td>\n",
       "      <td>...</td>\n",
       "      <td>...</td>\n",
       "      <td>...</td>\n",
       "    </tr>\n",
       "    <tr>\n",
       "      <th>195</th>\n",
       "      <td>28.0</td>\n",
       "      <td>Male</td>\n",
       "      <td>Bachelor's</td>\n",
       "      <td>Junior Business Analyst</td>\n",
       "      <td>2.0</td>\n",
       "      <td>40000.0</td>\n",
       "    </tr>\n",
       "    <tr>\n",
       "      <th>196</th>\n",
       "      <td>41.0</td>\n",
       "      <td>Female</td>\n",
       "      <td>Bachelor's</td>\n",
       "      <td>Senior Marketing Coordinator</td>\n",
       "      <td>11.0</td>\n",
       "      <td>90000.0</td>\n",
       "    </tr>\n",
       "    <tr>\n",
       "      <th>197</th>\n",
       "      <td>45.0</td>\n",
       "      <td>Male</td>\n",
       "      <td>PhD</td>\n",
       "      <td>Senior Data Analyst</td>\n",
       "      <td>17.0</td>\n",
       "      <td>155000.0</td>\n",
       "    </tr>\n",
       "    <tr>\n",
       "      <th>198</th>\n",
       "      <td>32.0</td>\n",
       "      <td>Female</td>\n",
       "      <td>Bachelor's</td>\n",
       "      <td>Junior Account Manager</td>\n",
       "      <td>5.0</td>\n",
       "      <td>55000.0</td>\n",
       "    </tr>\n",
       "    <tr>\n",
       "      <th>199</th>\n",
       "      <td>35.0</td>\n",
       "      <td>Male</td>\n",
       "      <td>Master's</td>\n",
       "      <td>Senior Software Developer</td>\n",
       "      <td>9.0</td>\n",
       "      <td>110000.0</td>\n",
       "    </tr>\n",
       "  </tbody>\n",
       "</table>\n",
       "<p>199 rows × 6 columns</p>\n",
       "</div>"
      ],
      "text/plain": [
       "      Age  Gender Education Level                     Job Title  \\\n",
       "0    32.0    Male      Bachelor's             Software Engineer   \n",
       "1    28.0  Female        Master's                  Data Analyst   \n",
       "2    45.0    Male             PhD                Senior Manager   \n",
       "3    36.0  Female      Bachelor's               Sales Associate   \n",
       "4    52.0    Male        Master's                      Director   \n",
       "..    ...     ...             ...                           ...   \n",
       "195  28.0    Male      Bachelor's       Junior Business Analyst   \n",
       "196  41.0  Female      Bachelor's  Senior Marketing Coordinator   \n",
       "197  45.0    Male             PhD           Senior Data Analyst   \n",
       "198  32.0  Female      Bachelor's        Junior Account Manager   \n",
       "199  35.0    Male        Master's     Senior Software Developer   \n",
       "\n",
       "     Years of Experience    Salary  \n",
       "0                    5.0   90000.0  \n",
       "1                    3.0   65000.0  \n",
       "2                   15.0  150000.0  \n",
       "3                    7.0   60000.0  \n",
       "4                   20.0  200000.0  \n",
       "..                   ...       ...  \n",
       "195                  2.0   40000.0  \n",
       "196                 11.0   90000.0  \n",
       "197                 17.0  155000.0  \n",
       "198                  5.0   55000.0  \n",
       "199                  9.0  110000.0  \n",
       "\n",
       "[199 rows x 6 columns]"
      ]
     },
     "execution_count": 10,
     "metadata": {},
     "output_type": "execute_result"
    }
   ],
   "source": [
    "df=pb.read_csv(\"A:\\\\Ducat\\\\PYTHON\\\\phyton\\\\data analytics\\\\MACHINE LEARNING\\\\archive (4)\\\\Salary Data.csv\")\n",
    "df=df.head(200)\n",
    "\n",
    "df=df.dropna()\n",
    "df"
   ]
  },
  {
   "cell_type": "code",
   "execution_count": 11,
   "metadata": {},
   "outputs": [
    {
     "name": "stdout",
     "output_type": "stream",
     "text": [
      "2 1 2 1\n"
     ]
    },
    {
     "data": {
      "text/plain": [
       "array([[ 5. ],\n",
       "       [ 3. ],\n",
       "       [15. ],\n",
       "       [ 7. ],\n",
       "       [20. ],\n",
       "       [ 2. ],\n",
       "       [12. ],\n",
       "       [ 4. ],\n",
       "       [ 1. ],\n",
       "       [10. ],\n",
       "       [ 3. ],\n",
       "       [18. ],\n",
       "       [ 6. ],\n",
       "       [14. ],\n",
       "       [ 2. ],\n",
       "       [16. ],\n",
       "       [ 7. ],\n",
       "       [12. ],\n",
       "       [ 0. ],\n",
       "       [22. ],\n",
       "       [ 5. ],\n",
       "       [19. ],\n",
       "       [ 2. ],\n",
       "       [ 9. ],\n",
       "       [13. ],\n",
       "       [ 3. ],\n",
       "       [11. ],\n",
       "       [ 1. ],\n",
       "       [15. ],\n",
       "       [ 6. ],\n",
       "       [25. ],\n",
       "       [ 4. ],\n",
       "       [ 3. ],\n",
       "       [10. ],\n",
       "       [20. ],\n",
       "       [ 2. ],\n",
       "       [ 7. ],\n",
       "       [14. ],\n",
       "       [ 1. ],\n",
       "       [21. ],\n",
       "       [ 5. ],\n",
       "       [18. ],\n",
       "       [ 3. ],\n",
       "       [ 8. ],\n",
       "       [13. ],\n",
       "       [ 2. ],\n",
       "       [ 5. ],\n",
       "       [16. ],\n",
       "       [11. ],\n",
       "       [ 0. ],\n",
       "       [22. ],\n",
       "       [ 7. ],\n",
       "       [12. ],\n",
       "       [19. ],\n",
       "       [ 3. ],\n",
       "       [ 9. ],\n",
       "       [ 2. ],\n",
       "       [17. ],\n",
       "       [ 4. ],\n",
       "       [ 7. ],\n",
       "       [23. ],\n",
       "       [ 3. ],\n",
       "       [12. ],\n",
       "       [21. ],\n",
       "       [ 1. ],\n",
       "       [10. ],\n",
       "       [19. ],\n",
       "       [ 5. ],\n",
       "       [ 8. ],\n",
       "       [18. ],\n",
       "       [ 6. ],\n",
       "       [11. ],\n",
       "       [16. ],\n",
       "       [ 2. ],\n",
       "       [14. ],\n",
       "       [10. ],\n",
       "       [22. ],\n",
       "       [ 6. ],\n",
       "       [20. ],\n",
       "       [ 3. ],\n",
       "       [ 8. ],\n",
       "       [13. ],\n",
       "       [ 0. ],\n",
       "       [24. ],\n",
       "       [ 2. ],\n",
       "       [10. ],\n",
       "       [ 2. ],\n",
       "       [15. ],\n",
       "       [21. ],\n",
       "       [ 6. ],\n",
       "       [11. ],\n",
       "       [ 3. ],\n",
       "       [18. ],\n",
       "       [25. ],\n",
       "       [ 7. ],\n",
       "       [12. ],\n",
       "       [22. ],\n",
       "       [ 1. ],\n",
       "       [10. ],\n",
       "       [20. ],\n",
       "       [ 5. ],\n",
       "       [ 8. ],\n",
       "       [19. ],\n",
       "       [ 5. ],\n",
       "       [13. ],\n",
       "       [16. ],\n",
       "       [ 3. ],\n",
       "       [ 7. ],\n",
       "       [14. ],\n",
       "       [ 2. ],\n",
       "       [15. ],\n",
       "       [ 9. ],\n",
       "       [22. ],\n",
       "       [ 6. ],\n",
       "       [ 0.5],\n",
       "       [ 6. ],\n",
       "       [15. ],\n",
       "       [20. ],\n",
       "       [ 3. ],\n",
       "       [10. ],\n",
       "       [17. ],\n",
       "       [25. ],\n",
       "       [ 5. ],\n",
       "       [11. ],\n",
       "       [16. ],\n",
       "       [ 2. ],\n",
       "       [ 9. ],\n",
       "       [18. ],\n",
       "       [ 4. ],\n",
       "       [ 8. ],\n",
       "       [21. ],\n",
       "       [ 3. ],\n",
       "       [12. ],\n",
       "       [22. ],\n",
       "       [ 1. ],\n",
       "       [10. ],\n",
       "       [19. ],\n",
       "       [ 4. ],\n",
       "       [ 7. ],\n",
       "       [14. ],\n",
       "       [ 2. ],\n",
       "       [13. ],\n",
       "       [ 5. ],\n",
       "       [20. ],\n",
       "       [ 1.5],\n",
       "       [ 8. ],\n",
       "       [16. ],\n",
       "       [ 4. ],\n",
       "       [10. ],\n",
       "       [19. ],\n",
       "       [ 3. ],\n",
       "       [11. ],\n",
       "       [18. ],\n",
       "       [ 2. ],\n",
       "       [ 9. ],\n",
       "       [14. ],\n",
       "       [ 5. ],\n",
       "       [ 7. ],\n",
       "       [23. ],\n",
       "       [ 2. ],\n",
       "       [12. ],\n",
       "       [21. ],\n",
       "       [ 3. ],\n",
       "       [ 7. ],\n",
       "       [13. ],\n",
       "       [ 1.5],\n",
       "       [14. ],\n",
       "       [18. ],\n",
       "       [ 4. ],\n",
       "       [ 9. ],\n",
       "       [20. ],\n",
       "       [ 2. ],\n",
       "       [16. ],\n",
       "       [ 1.5],\n",
       "       [ 7. ],\n",
       "       [18. ],\n",
       "       [ 4. ],\n",
       "       [10. ],\n",
       "       [20. ],\n",
       "       [ 2. ],\n",
       "       [ 9. ],\n",
       "       [15. ],\n",
       "       [ 2. ],\n",
       "       [ 8. ],\n",
       "       [14. ],\n",
       "       [ 6. ],\n",
       "       [ 9. ],\n",
       "       [22. ],\n",
       "       [ 1.5],\n",
       "       [12. ],\n",
       "       [19. ],\n",
       "       [ 3. ],\n",
       "       [ 7. ],\n",
       "       [13. ],\n",
       "       [ 2. ],\n",
       "       [11. ],\n",
       "       [17. ],\n",
       "       [ 5. ],\n",
       "       [ 9. ]])"
      ]
     },
     "execution_count": 11,
     "metadata": {},
     "output_type": "execute_result"
    }
   ],
   "source": [
    "x=df.iloc[:,4:6]\n",
    "\n",
    "y=df.Age \n",
    "w=df.iloc[:,:1]\n",
    "z=df[['Years of Experience']].values\n",
    "q=df.Salary.values\n",
    "print(x.ndim,y.ndim,z.ndim,q.ndim)\n",
    "z\n"
   ]
  },
  {
   "cell_type": "code",
   "execution_count": 12,
   "metadata": {},
   "outputs": [],
   "source": [
    "import seaborn as sn"
   ]
  },
  {
   "cell_type": "code",
   "execution_count": 13,
   "metadata": {},
   "outputs": [
    {
     "data": {
      "image/png": "[encoded data removed]",
      "text/plain": [
       "<Figure size 640x480 with 1 Axes>"
      ]
     },
     "metadata": {},
     "output_type": "display_data"
    }
   ],
   "source": [
    "sn.lineplot(x=z.flatten(),y=y)\n",
    "plt.grid()\n",
    "plt.show()\n",
    "\n"
   ]
  },
  {
   "cell_type": "code",
   "execution_count": 14,
   "metadata": {},
   "outputs": [
    {
     "data": {
      "image/png": "[encoded data removed]",
      "text/plain": [
       "<Figure size 640x480 with 1 Axes>"
      ]
     },
     "metadata": {},
     "output_type": "display_data"
    }
   ],
   "source": [
    "sn.lineplot(x=z.flatten(),y=q)\n",
    "plt.grid()\n",
    "plt.show()"
   ]
  },
  {
   "cell_type": "code",
   "execution_count": 15,
   "metadata": {},
   "outputs": [
    {
     "data": {
      "text/html": [
       "<style>#sk-container-id-1 {color: black;}#sk-container-id-1 pre{padding: 0;}#sk-container-id-1 div.sk-toggleable {background-color: white;}#sk-container-id-1 label.sk-toggleable__label {cursor: pointer;display: block;width: 100%;margin-bottom: 0;padding: 0.3em;box-sizing: border-box;text-align: center;}#sk-container-id-1 label.sk-toggleable__label-arrow:before {content: \"▸\";float: left;margin-right: 0.25em;color: #696969;}#sk-container-id-1 label.sk-toggleable__label-arrow:hover:before {color: black;}#sk-container-id-1 div.sk-estimator:hover label.sk-toggleable__label-arrow:before {color: black;}#sk-container-id-1 div.sk-toggleable__content {max-height: 0;max-width: 0;overflow: hidden;text-align: left;background-color: #f0f8ff;}#sk-container-id-1 div.sk-toggleable__content pre {margin: 0.2em;color: black;border-radius: 0.25em;background-color: #f0f8ff;}#sk-container-id-1 input.sk-toggleable__control:checked~div.sk-toggleable__content {max-height: 200px;max-width: 100%;overflow: auto;}#sk-container-id-1 input.sk-toggleable__control:checked~label.sk-toggleable__label-arrow:before {content: \"▾\";}#sk-container-id-1 div.sk-estimator input.sk-toggleable__control:checked~label.sk-toggleable__label {background-color: #d4ebff;}#sk-container-id-1 div.sk-label input.sk-toggleable__control:checked~label.sk-toggleable__label {background-color: #d4ebff;}#sk-container-id-1 input.sk-hidden--visually {border: 0;clip: rect(1px 1px 1px 1px);clip: rect(1px, 1px, 1px, 1px);height: 1px;margin: -1px;overflow: hidden;padding: 0;position: absolute;width: 1px;}#sk-container-id-1 div.sk-estimator {font-family: monospace;background-color: #f0f8ff;border: 1px dotted black;border-radius: 0.25em;box-sizing: border-box;margin-bottom: 0.5em;}#sk-container-id-1 div.sk-estimator:hover {background-color: #d4ebff;}#sk-container-id-1 div.sk-parallel-item::after {content: \"\";width: 100%;border-bottom: 1px solid gray;flex-grow: 1;}#sk-container-id-1 div.sk-label:hover label.sk-toggleable__label {background-color: #d4ebff;}#sk-container-id-1 div.sk-serial::before {content: \"\";position: absolute;border-left: 1px solid gray;box-sizing: border-box;top: 0;bottom: 0;left: 50%;z-index: 0;}#sk-container-id-1 div.sk-serial {display: flex;flex-direction: column;align-items: center;background-color: white;padding-right: 0.2em;padding-left: 0.2em;position: relative;}#sk-container-id-1 div.sk-item {position: relative;z-index: 1;}#sk-container-id-1 div.sk-parallel {display: flex;align-items: stretch;justify-content: center;background-color: white;position: relative;}#sk-container-id-1 div.sk-item::before, #sk-container-id-1 div.sk-parallel-item::before {content: \"\";position: absolute;border-left: 1px solid gray;box-sizing: border-box;top: 0;bottom: 0;left: 50%;z-index: -1;}#sk-container-id-1 div.sk-parallel-item {display: flex;flex-direction: column;z-index: 1;position: relative;background-color: white;}#sk-container-id-1 div.sk-parallel-item:first-child::after {align-self: flex-end;width: 50%;}#sk-container-id-1 div.sk-parallel-item:last-child::after {align-self: flex-start;width: 50%;}#sk-container-id-1 div.sk-parallel-item:only-child::after {width: 0;}#sk-container-id-1 div.sk-dashed-wrapped {border: 1px dashed gray;margin: 0 0.4em 0.5em 0.4em;box-sizing: border-box;padding-bottom: 0.4em;background-color: white;}#sk-container-id-1 div.sk-label label {font-family: monospace;font-weight: bold;display: inline-block;line-height: 1.2em;}#sk-container-id-1 div.sk-label-container {text-align: center;}#sk-container-id-1 div.sk-container {/* jupyter's `normalize.less` sets `[hidden] { display: none; }` but bootstrap.min.css set `[hidden] { display: none !important; }` so we also need the `!important` here to be able to override the default hidden behavior on the sphinx rendered scikit-learn.org. See: https://github.com/scikit-learn/scikit-learn/issues/21755 */display: inline-block !important;position: relative;}#sk-container-id-1 div.sk-text-repr-fallback {display: none;}</style><div id=\"sk-container-id-1\" class=\"sk-top-container\"><div class=\"sk-text-repr-fallback\"><pre>LinearRegression()</pre><b>In a Jupyter environment, please rerun this cell to show the HTML representation or trust the notebook. <br />On GitHub, the HTML representation is unable to render, please try loading this page with nbviewer.org.</b></div><div class=\"sk-container\" hidden><div class=\"sk-item\"><div class=\"sk-estimator sk-toggleable\"><input class=\"sk-toggleable__control sk-hidden--visually\" id=\"sk-estimator-id-1\" type=\"checkbox\" checked><label for=\"sk-estimator-id-1\" class=\"sk-toggleable__label sk-toggleable__label-arrow\">LinearRegression</label><div class=\"sk-toggleable__content\"><pre>LinearRegression()</pre></div></div></div></div></div>"
      ],
      "text/plain": [
       "LinearRegression()"
      ]
     },
     "execution_count": 15,
     "metadata": {},
     "output_type": "execute_result"
    }
   ],
   "source": [
    "model=LinearRegression()\n",
    "model"
   ]
  },
  {
   "cell_type": "markdown",
   "metadata": {},
   "source": [
    "# NOTE:-\n",
    "\n",
    "## > x :- is the feature which is always in 2d array.\n",
    "\n",
    "## > y :- is the target which is always in 1d array (vector)."
   ]
  },
  {
   "cell_type": "code",
   "execution_count": 16,
   "metadata": {},
   "outputs": [
    {
     "data": {
      "text/html": [
       "<style>#sk-container-id-2 {color: black;}#sk-container-id-2 pre{padding: 0;}#sk-container-id-2 div.sk-toggleable {background-color: white;}#sk-container-id-2 label.sk-toggleable__label {cursor: pointer;display: block;width: 100%;margin-bottom: 0;padding: 0.3em;box-sizing: border-box;text-align: center;}#sk-container-id-2 label.sk-toggleable__label-arrow:before {content: \"▸\";float: left;margin-right: 0.25em;color: #696969;}#sk-container-id-2 label.sk-toggleable__label-arrow:hover:before {color: black;}#sk-container-id-2 div.sk-estimator:hover label.sk-toggleable__label-arrow:before {color: black;}#sk-container-id-2 div.sk-toggleable__content {max-height: 0;max-width: 0;overflow: hidden;text-align: left;background-color: #f0f8ff;}#sk-container-id-2 div.sk-toggleable__content pre {margin: 0.2em;color: black;border-radius: 0.25em;background-color: #f0f8ff;}#sk-container-id-2 input.sk-toggleable__control:checked~div.sk-toggleable__content {max-height: 200px;max-width: 100%;overflow: auto;}#sk-container-id-2 input.sk-toggleable__control:checked~label.sk-toggleable__label-arrow:before {content: \"▾\";}#sk-container-id-2 div.sk-estimator input.sk-toggleable__control:checked~label.sk-toggleable__label {background-color: #d4ebff;}#sk-container-id-2 div.sk-label input.sk-toggleable__control:checked~label.sk-toggleable__label {background-color: #d4ebff;}#sk-container-id-2 input.sk-hidden--visually {border: 0;clip: rect(1px 1px 1px 1px);clip: rect(1px, 1px, 1px, 1px);height: 1px;margin: -1px;overflow: hidden;padding: 0;position: absolute;width: 1px;}#sk-container-id-2 div.sk-estimator {font-family: monospace;background-color: #f0f8ff;border: 1px dotted black;border-radius: 0.25em;box-sizing: border-box;margin-bottom: 0.5em;}#sk-container-id-2 div.sk-estimator:hover {background-color: #d4ebff;}#sk-container-id-2 div.sk-parallel-item::after {content: \"\";width: 100%;border-bottom: 1px solid gray;flex-grow: 1;}#sk-container-id-2 div.sk-label:hover label.sk-toggleable__label {background-color: #d4ebff;}#sk-container-id-2 div.sk-serial::before {content: \"\";position: absolute;border-left: 1px solid gray;box-sizing: border-box;top: 0;bottom: 0;left: 50%;z-index: 0;}#sk-container-id-2 div.sk-serial {display: flex;flex-direction: column;align-items: center;background-color: white;padding-right: 0.2em;padding-left: 0.2em;position: relative;}#sk-container-id-2 div.sk-item {position: relative;z-index: 1;}#sk-container-id-2 div.sk-parallel {display: flex;align-items: stretch;justify-content: center;background-color: white;position: relative;}#sk-container-id-2 div.sk-item::before, #sk-container-id-2 div.sk-parallel-item::before {content: \"\";position: absolute;border-left: 1px solid gray;box-sizing: border-box;top: 0;bottom: 0;left: 50%;z-index: -1;}#sk-container-id-2 div.sk-parallel-item {display: flex;flex-direction: column;z-index: 1;position: relative;background-color: white;}#sk-container-id-2 div.sk-parallel-item:first-child::after {align-self: flex-end;width: 50%;}#sk-container-id-2 div.sk-parallel-item:last-child::after {align-self: flex-start;width: 50%;}#sk-container-id-2 div.sk-parallel-item:only-child::after {width: 0;}#sk-container-id-2 div.sk-dashed-wrapped {border: 1px dashed gray;margin: 0 0.4em 0.5em 0.4em;box-sizing: border-box;padding-bottom: 0.4em;background-color: white;}#sk-container-id-2 div.sk-label label {font-family: monospace;font-weight: bold;display: inline-block;line-height: 1.2em;}#sk-container-id-2 div.sk-label-container {text-align: center;}#sk-container-id-2 div.sk-container {/* jupyter's `normalize.less` sets `[hidden] { display: none; }` but bootstrap.min.css set `[hidden] { display: none !important; }` so we also need the `!important` here to be able to override the default hidden behavior on the sphinx rendered scikit-learn.org. See: https://github.com/scikit-learn/scikit-learn/issues/21755 */display: inline-block !important;position: relative;}#sk-container-id-2 div.sk-text-repr-fallback {display: none;}</style><div id=\"sk-container-id-2\" class=\"sk-top-container\"><div class=\"sk-text-repr-fallback\"><pre>LinearRegression()</pre><b>In a Jupyter environment, please rerun this cell to show the HTML representation or trust the notebook. <br />On GitHub, the HTML representation is unable to render, please try loading this page with nbviewer.org.</b></div><div class=\"sk-container\" hidden><div class=\"sk-item\"><div class=\"sk-estimator sk-toggleable\"><input class=\"sk-toggleable__control sk-hidden--visually\" id=\"sk-estimator-id-2\" type=\"checkbox\" checked><label for=\"sk-estimator-id-2\" class=\"sk-toggleable__label sk-toggleable__label-arrow\">LinearRegression</label><div class=\"sk-toggleable__content\"><pre>LinearRegression()</pre></div></div></div></div></div>"
      ],
      "text/plain": [
       "LinearRegression()"
      ]
     },
     "execution_count": 16,
     "metadata": {},
     "output_type": "execute_result"
    }
   ],
   "source": [
    "model.fit(z,q) #(x,y)"
   ]
  },
  {
   "cell_type": "code",
   "execution_count": 17,
   "metadata": {},
   "outputs": [
    {
     "data": {
      "text/plain": [
       "array([159869.07615414])"
      ]
     },
     "execution_count": 17,
     "metadata": {},
     "output_type": "execute_result"
    }
   ],
   "source": [
    "model.predict([[20]])"
   ]
  },
  {
   "cell_type": "code",
   "execution_count": 18,
   "metadata": {},
   "outputs": [
    {
     "data": {
      "image/png": "[encoded data removed]",
      "text/plain": [
       "<Figure size 640x480 with 1 Axes>"
      ]
     },
     "metadata": {},
     "output_type": "display_data"
    }
   ],
   "source": [
    "sn.scatterplot(x=z.flatten(),y=q) # graph value always in 1-D\n",
    "plt.show()"
   ]
  },
  {
   "cell_type": "code",
   "execution_count": 19,
   "metadata": {},
   "outputs": [
    {
     "data": {
      "text/plain": [
       "array([ 63587.9273043 ,  50750.44079099, 127775.35987086,  76425.41381761,\n",
       "       159869.07615414,  44331.69753433, 108519.13010089,  57169.18404765,\n",
       "        37912.95427768,  95681.64358758,  50750.44079099, 147031.58964083,\n",
       "        70006.67056096, 121356.6166142 ,  44331.69753433, 134194.10312752,\n",
       "        76425.41381761, 108519.13010089,  31494.21102102, 172706.56266745,\n",
       "        63587.9273043 , 153450.33289748,  44331.69753433,  89262.90033093,\n",
       "       114937.87335755,  50750.44079099, 102100.38684424,  37912.95427768,\n",
       "       127775.35987086,  70006.67056096, 191962.79243742,  57169.18404765,\n",
       "        50750.44079099,  95681.64358758, 159869.07615414,  44331.69753433,\n",
       "        76425.41381761, 121356.6166142 ,  37912.95427768, 166287.8194108 ,\n",
       "        63587.9273043 , 147031.58964083,  50750.44079099,  82844.15707427,\n",
       "       114937.87335755,  44331.69753433,  63587.9273043 , 134194.10312752,\n",
       "       102100.38684424,  31494.21102102, 172706.56266745,  76425.41381761,\n",
       "       108519.13010089, 153450.33289748,  50750.44079099,  89262.90033093,\n",
       "        44331.69753433, 140612.84638417,  57169.18404765,  76425.41381761,\n",
       "       179125.30592411,  50750.44079099, 108519.13010089, 166287.8194108 ,\n",
       "        37912.95427768,  95681.64358758, 153450.33289748,  63587.9273043 ,\n",
       "        82844.15707427, 147031.58964083,  70006.67056096, 102100.38684424,\n",
       "       134194.10312752,  44331.69753433, 121356.6166142 ,  95681.64358758,\n",
       "       172706.56266745,  70006.67056096, 159869.07615414,  50750.44079099,\n",
       "        82844.15707427, 114937.87335755,  31494.21102102, 185544.04918076,\n",
       "        44331.69753433,  95681.64358758,  44331.69753433, 127775.35987086,\n",
       "       166287.8194108 ,  70006.67056096, 102100.38684424,  50750.44079099,\n",
       "       147031.58964083, 191962.79243742,  76425.41381761, 108519.13010089,\n",
       "       172706.56266745,  37912.95427768,  95681.64358758, 159869.07615414,\n",
       "        63587.9273043 ,  82844.15707427, 153450.33289748,  63587.9273043 ,\n",
       "       114937.87335755, 134194.10312752,  50750.44079099,  76425.41381761,\n",
       "       121356.6166142 ,  44331.69753433, 127775.35987086,  89262.90033093,\n",
       "       172706.56266745,  70006.67056096,  34703.58264935,  70006.67056096,\n",
       "       127775.35987086, 159869.07615414,  50750.44079099,  95681.64358758,\n",
       "       140612.84638417, 191962.79243742,  63587.9273043 , 102100.38684424,\n",
       "       134194.10312752,  44331.69753433,  89262.90033093, 147031.58964083,\n",
       "        57169.18404765,  82844.15707427, 166287.8194108 ,  50750.44079099,\n",
       "       108519.13010089, 172706.56266745,  37912.95427768,  95681.64358758,\n",
       "       153450.33289748,  57169.18404765,  76425.41381761, 121356.6166142 ,\n",
       "        44331.69753433, 114937.87335755,  63587.9273043 , 159869.07615414,\n",
       "        41122.32590601,  82844.15707427, 134194.10312752,  57169.18404765,\n",
       "        95681.64358758, 153450.33289748,  50750.44079099, 102100.38684424,\n",
       "       147031.58964083,  44331.69753433,  89262.90033093, 121356.6166142 ,\n",
       "        63587.9273043 ,  76425.41381761, 179125.30592411,  44331.69753433,\n",
       "       108519.13010089, 166287.8194108 ,  50750.44079099,  76425.41381761,\n",
       "       114937.87335755,  41122.32590601, 121356.6166142 , 147031.58964083,\n",
       "        57169.18404765,  89262.90033093, 159869.07615414,  44331.69753433,\n",
       "       134194.10312752,  41122.32590601,  76425.41381761, 147031.58964083,\n",
       "        57169.18404765,  95681.64358758, 159869.07615414,  44331.69753433,\n",
       "        89262.90033093, 127775.35987086,  44331.69753433,  82844.15707427,\n",
       "       121356.6166142 ,  70006.67056096,  89262.90033093, 172706.56266745,\n",
       "        41122.32590601, 108519.13010089, 153450.33289748,  50750.44079099,\n",
       "        76425.41381761, 114937.87335755,  44331.69753433, 102100.38684424,\n",
       "       140612.84638417,  63587.9273043 ,  89262.90033093])"
      ]
     },
     "execution_count": 19,
     "metadata": {},
     "output_type": "execute_result"
    }
   ],
   "source": [
    "z_pridict=model.predict(z)\n",
    "z_pridict"
   ]
  },
  {
   "cell_type": "code",
   "execution_count": 20,
   "metadata": {},
   "outputs": [
    {
     "data": {
      "image/png": "[encoded data removed]",
      "text/plain": [
       "<Figure size 640x480 with 1 Axes>"
      ]
     },
     "metadata": {},
     "output_type": "display_data"
    }
   ],
   "source": [
    "sn.scatterplot(x=z.flatten(),y=q)\n",
    "sn.scatterplot(x=z.flatten(),y=z_pridict,color='red')\n",
    "plt.grid()\n",
    "plt.show()"
   ]
  },
  {
   "cell_type": "markdown",
   "metadata": {},
   "source": [
    "# Loose :-\n",
    "\n",
    "## > MAE :- MEAN ABOSOLUTE ERROR.\n",
    "\n",
    "## > MSE :- MEAN SQUARED ERROR.\n",
    "\n",
    "## > RMSE :- ROOT MEAN SQUARED ERROR. \n",
    "\n",
    "## > OLS :- ORIDINARY LIST SQUARE."
   ]
  },
  {
   "cell_type": "markdown",
   "metadata": {},
   "source": [
    "# > MAE (MEAN ABOSOLUTE ERROR) :- "
   ]
  },
  {
   "cell_type": "code",
   "execution_count": 21,
   "metadata": {},
   "outputs": [
    {
     "data": {
      "text/plain": [
       "array([ 90000.,  65000., 150000.,  60000., 200000.,  55000., 120000.,\n",
       "        80000.,  45000., 110000.,  75000., 140000.,  65000., 130000.,\n",
       "        40000., 125000.,  90000., 115000.,  35000., 180000.,  80000.,\n",
       "       190000.,  50000.,  60000., 140000.,  45000., 110000.,  40000.,\n",
       "       140000.,  90000., 250000.,  55000.,  75000.,  65000., 170000.,\n",
       "        45000.,  60000., 115000.,  40000., 160000.,  80000., 190000.,\n",
       "        60000.,  45000., 130000.,  40000.,  75000., 180000., 120000.,\n",
       "        35000., 130000.,  85000.,  60000., 200000.,  50000.,  95000.,\n",
       "        65000., 140000.,  55000., 105000., 170000.,  50000.,  80000.,\n",
       "       180000.,  35000.,  90000., 120000.,  45000.,  90000., 150000.,\n",
       "        65000.,  70000., 190000.,  40000., 120000.,  95000., 160000.,\n",
       "       100000., 180000.,  55000.,  70000.,  80000.,  30000., 250000.,\n",
       "        40000.,  95000.,  45000.,  80000., 135000.,  55000., 120000.,\n",
       "        40000., 105000., 170000.,  75000.,  65000., 160000.,  35000.,\n",
       "        90000., 110000.,  45000.,  95000., 150000.,  50000.,  80000.,\n",
       "       220000.,  50000.,  60000., 100000.,  40000., 110000.,  95000.,\n",
       "       130000.,  90000.,  35000.,  95000.,  65000., 170000.,  45000.,\n",
       "       120000., 100000., 180000.,  50000.,  80000., 140000.,  40000.,\n",
       "        95000., 110000.,  50000., 105000., 160000.,  45000., 100000.,\n",
       "       160000.,  35000.,  55000., 140000.,  50000.,  60000., 120000.,\n",
       "        40000., 110000.,  50000., 135000.,  40000.,  90000., 150000.,\n",
       "        60000.,  80000., 175000.,  45000., 120000., 140000.,  35000.,\n",
       "        95000., 110000.,  50000., 115000., 185000.,  40000.,  90000.,\n",
       "       175000.,  45000.,  80000., 120000.,  35000., 110000., 150000.,\n",
       "        50000., 105000., 180000.,  40000., 140000.,  45000.,  85000.,\n",
       "       140000.,  50000.,  80000., 170000.,  40000., 105000., 145000.,\n",
       "        40000.,  85000., 130000.,  95000., 100000., 180000.,  35000.,\n",
       "        95000., 170000.,  45000.,  95000., 120000.,  40000.,  90000.,\n",
       "       155000.,  55000., 110000.])"
      ]
     },
     "execution_count": 21,
     "metadata": {},
     "output_type": "execute_result"
    }
   ],
   "source": [
    "q"
   ]
  },
  {
   "cell_type": "code",
   "execution_count": 22,
   "metadata": {},
   "outputs": [
    {
     "data": {
      "text/plain": [
       "array([ 63587.9273043 ,  50750.44079099, 127775.35987086,  76425.41381761,\n",
       "       159869.07615414,  44331.69753433, 108519.13010089,  57169.18404765,\n",
       "        37912.95427768,  95681.64358758,  50750.44079099, 147031.58964083,\n",
       "        70006.67056096, 121356.6166142 ,  44331.69753433, 134194.10312752,\n",
       "        76425.41381761, 108519.13010089,  31494.21102102, 172706.56266745,\n",
       "        63587.9273043 , 153450.33289748,  44331.69753433,  89262.90033093,\n",
       "       114937.87335755,  50750.44079099, 102100.38684424,  37912.95427768,\n",
       "       127775.35987086,  70006.67056096, 191962.79243742,  57169.18404765,\n",
       "        50750.44079099,  95681.64358758, 159869.07615414,  44331.69753433,\n",
       "        76425.41381761, 121356.6166142 ,  37912.95427768, 166287.8194108 ,\n",
       "        63587.9273043 , 147031.58964083,  50750.44079099,  82844.15707427,\n",
       "       114937.87335755,  44331.69753433,  63587.9273043 , 134194.10312752,\n",
       "       102100.38684424,  31494.21102102, 172706.56266745,  76425.41381761,\n",
       "       108519.13010089, 153450.33289748,  50750.44079099,  89262.90033093,\n",
       "        44331.69753433, 140612.84638417,  57169.18404765,  76425.41381761,\n",
       "       179125.30592411,  50750.44079099, 108519.13010089, 166287.8194108 ,\n",
       "        37912.95427768,  95681.64358758, 153450.33289748,  63587.9273043 ,\n",
       "        82844.15707427, 147031.58964083,  70006.67056096, 102100.38684424,\n",
       "       134194.10312752,  44331.69753433, 121356.6166142 ,  95681.64358758,\n",
       "       172706.56266745,  70006.67056096, 159869.07615414,  50750.44079099,\n",
       "        82844.15707427, 114937.87335755,  31494.21102102, 185544.04918076,\n",
       "        44331.69753433,  95681.64358758,  44331.69753433, 127775.35987086,\n",
       "       166287.8194108 ,  70006.67056096, 102100.38684424,  50750.44079099,\n",
       "       147031.58964083, 191962.79243742,  76425.41381761, 108519.13010089,\n",
       "       172706.56266745,  37912.95427768,  95681.64358758, 159869.07615414,\n",
       "        63587.9273043 ,  82844.15707427, 153450.33289748,  63587.9273043 ,\n",
       "       114937.87335755, 134194.10312752,  50750.44079099,  76425.41381761,\n",
       "       121356.6166142 ,  44331.69753433, 127775.35987086,  89262.90033093,\n",
       "       172706.56266745,  70006.67056096,  34703.58264935,  70006.67056096,\n",
       "       127775.35987086, 159869.07615414,  50750.44079099,  95681.64358758,\n",
       "       140612.84638417, 191962.79243742,  63587.9273043 , 102100.38684424,\n",
       "       134194.10312752,  44331.69753433,  89262.90033093, 147031.58964083,\n",
       "        57169.18404765,  82844.15707427, 166287.8194108 ,  50750.44079099,\n",
       "       108519.13010089, 172706.56266745,  37912.95427768,  95681.64358758,\n",
       "       153450.33289748,  57169.18404765,  76425.41381761, 121356.6166142 ,\n",
       "        44331.69753433, 114937.87335755,  63587.9273043 , 159869.07615414,\n",
       "        41122.32590601,  82844.15707427, 134194.10312752,  57169.18404765,\n",
       "        95681.64358758, 153450.33289748,  50750.44079099, 102100.38684424,\n",
       "       147031.58964083,  44331.69753433,  89262.90033093, 121356.6166142 ,\n",
       "        63587.9273043 ,  76425.41381761, 179125.30592411,  44331.69753433,\n",
       "       108519.13010089, 166287.8194108 ,  50750.44079099,  76425.41381761,\n",
       "       114937.87335755,  41122.32590601, 121356.6166142 , 147031.58964083,\n",
       "        57169.18404765,  89262.90033093, 159869.07615414,  44331.69753433,\n",
       "       134194.10312752,  41122.32590601,  76425.41381761, 147031.58964083,\n",
       "        57169.18404765,  95681.64358758, 159869.07615414,  44331.69753433,\n",
       "        89262.90033093, 127775.35987086,  44331.69753433,  82844.15707427,\n",
       "       121356.6166142 ,  70006.67056096,  89262.90033093, 172706.56266745,\n",
       "        41122.32590601, 108519.13010089, 153450.33289748,  50750.44079099,\n",
       "        76425.41381761, 114937.87335755,  44331.69753433, 102100.38684424,\n",
       "       140612.84638417,  63587.9273043 ,  89262.90033093])"
      ]
     },
     "execution_count": 22,
     "metadata": {},
     "output_type": "execute_result"
    }
   ],
   "source": [
    "z_pridict"
   ]
  },
  {
   "cell_type": "markdown",
   "metadata": {},
   "source": [
    "## Numpy support Broadcasting then no. of dim. are same"
   ]
  },
  {
   "cell_type": "code",
   "execution_count": 24,
   "metadata": {},
   "outputs": [
    {
     "name": "stdout",
     "output_type": "stream",
     "text": [
      "1 [ 2 10  8  8] 2 [ 0 -6 -2  0] 3 [ 1 16 15 16] 4 [1 0 0 1]\n"
     ]
    }
   ],
   "source": [
    "a=np.array([1,2,3,4])\n",
    "b=np.array([1,8,5,4])\n",
    "print('1',a+b,'2',a-b,'3',a*b,'4',a//b)"
   ]
  },
  {
   "cell_type": "code",
   "execution_count": 29,
   "metadata": {},
   "outputs": [
    {
     "data": {
      "text/plain": [
       "array([26412.0726957 , 14249.55920901, 22224.64012914, 16425.41381761,\n",
       "       40130.92384586, 10668.30246567, 11480.86989911, 22830.81595235,\n",
       "        7087.04572232, 14318.35641242, 24249.55920901,  7031.58964083,\n",
       "        5006.67056096,  8643.3833858 ,  4331.69753433,  9194.10312752,\n",
       "       13574.58618239,  6480.86989911,  3505.78897898,  7293.43733255,\n",
       "       16412.0726957 , 36549.66710252,  5668.30246567, 29262.90033093,\n",
       "       25062.12664245,  5750.44079099,  7899.61315576,  2087.04572232,\n",
       "       12224.64012914, 19993.32943904, 58037.20756258,  2169.18404765,\n",
       "       24249.55920901, 30681.64358758, 10130.92384586,   668.30246567,\n",
       "       16425.41381761,  6356.6166142 ,  2087.04572232,  6287.8194108 ,\n",
       "       16412.0726957 , 42968.41035917,  9249.55920901, 37844.15707427,\n",
       "       15062.12664245,  4331.69753433, 11412.0726957 , 45805.89687248,\n",
       "       17899.61315576,  3505.78897898, 42706.56266745,  8574.58618239,\n",
       "       48519.13010089, 46549.66710252,   750.44079099,  5737.09966907,\n",
       "       20668.30246567,   612.84638417,  2169.18404765, 28574.58618239,\n",
       "        9125.30592411,   750.44079099, 28519.13010089, 13712.1805892 ,\n",
       "        2912.95427768,  5681.64358758, 33450.33289748, 18587.9273043 ,\n",
       "        7155.84292573,  2968.41035917,  5006.67056096, 32100.38684424,\n",
       "       55805.89687248,  4331.69753433,  1356.6166142 ,   681.64358758,\n",
       "       12706.56266745, 29993.32943904, 20130.92384586,  4249.55920901,\n",
       "       12844.15707427, 34937.87335755,  1494.21102102, 64455.95081924,\n",
       "        4331.69753433,   681.64358758,   668.30246567, 47775.35987086,\n",
       "       31287.8194108 , 15006.67056096, 17899.61315576, 10750.44079099,\n",
       "       42031.58964083, 21962.79243742,  1425.41381761, 43519.13010089,\n",
       "       12706.56266745,  2912.95427768,  5681.64358758, 49869.07615414,\n",
       "       18587.9273043 , 12155.84292573,  3450.33289748, 13587.9273043 ,\n",
       "       34937.87335755, 85805.89687248,   750.44079099, 16425.41381761,\n",
       "       21356.6166142 ,  4331.69753433, 17775.35987086,  5737.09966907,\n",
       "       42706.56266745, 19993.32943904,   296.41735065, 24993.32943904,\n",
       "       62775.35987086, 10130.92384586,  5750.44079099, 24318.35641242,\n",
       "       40612.84638417, 11962.79243742, 13587.9273043 , 22100.38684424,\n",
       "        5805.89687248,  4331.69753433,  5737.09966907, 37031.58964083,\n",
       "        7169.18404765, 22155.84292573,  6287.8194108 ,  5750.44079099,\n",
       "        8519.13010089, 12706.56266745,  2912.95427768, 40681.64358758,\n",
       "       13450.33289748,  7169.18404765, 16425.41381761,  1356.6166142 ,\n",
       "        4331.69753433,  4937.87335755, 13587.9273043 , 24869.07615414,\n",
       "        1122.32590601,  7155.84292573, 15805.89687248,  2830.81595235,\n",
       "       15681.64358758, 21549.66710252,  5750.44079099, 17899.61315576,\n",
       "        7031.58964083,  9331.69753433,  5737.09966907, 11356.6166142 ,\n",
       "       13587.9273043 , 38574.58618239,  5874.69407589,  4331.69753433,\n",
       "       18519.13010089,  8712.1805892 ,  5750.44079099,  3574.58618239,\n",
       "        5062.12664245,  6122.32590601, 11356.6166142 ,  2968.41035917,\n",
       "        7169.18404765, 15737.09966907, 20130.92384586,  4331.69753433,\n",
       "        5805.89687248,  3877.67409399,  8574.58618239,  7031.58964083,\n",
       "        7169.18404765, 15681.64358758, 10130.92384586,  4331.69753433,\n",
       "       15737.09966907, 17224.64012914,  4331.69753433,  2155.84292573,\n",
       "        8643.3833858 , 24993.32943904, 10737.09966907,  7293.43733255,\n",
       "        6122.32590601, 13519.13010089, 16549.66710252,  5750.44079099,\n",
       "       18574.58618239,  5062.12664245,  4331.69753433, 12100.38684424,\n",
       "       14387.15361583,  8587.9273043 , 20737.09966907])"
      ]
     },
     "execution_count": 29,
     "metadata": {},
     "output_type": "execute_result"
    }
   ],
   "source": [
    "# error and abs\n",
    "Error=abs(q-z_pridict)\n",
    "Error"
   ]
  },
  {
   "cell_type": "code",
   "execution_count": 32,
   "metadata": {},
   "outputs": [
    {
     "data": {
      "text/plain": [
       "15305.607686162944"
      ]
     },
     "execution_count": 32,
     "metadata": {},
     "output_type": "execute_result"
    }
   ],
   "source": [
    "#mean:-\n",
    "mae=np.mean(Error)\n",
    "mae\n"
   ]
  },
  {
   "cell_type": "markdown",
   "metadata": {},
   "source": [
    "## > MSE :- MEAN SQUARED ERROR"
   ]
  },
  {
   "cell_type": "code",
   "execution_count": 33,
   "metadata": {},
   "outputs": [
    {
     "data": {
      "text/plain": [
       "array([ 90000.,  65000., 150000.,  60000., 200000.,  55000., 120000.,\n",
       "        80000.,  45000., 110000.,  75000., 140000.,  65000., 130000.,\n",
       "        40000., 125000.,  90000., 115000.,  35000., 180000.,  80000.,\n",
       "       190000.,  50000.,  60000., 140000.,  45000., 110000.,  40000.,\n",
       "       140000.,  90000., 250000.,  55000.,  75000.,  65000., 170000.,\n",
       "        45000.,  60000., 115000.,  40000., 160000.,  80000., 190000.,\n",
       "        60000.,  45000., 130000.,  40000.,  75000., 180000., 120000.,\n",
       "        35000., 130000.,  85000.,  60000., 200000.,  50000.,  95000.,\n",
       "        65000., 140000.,  55000., 105000., 170000.,  50000.,  80000.,\n",
       "       180000.,  35000.,  90000., 120000.,  45000.,  90000., 150000.,\n",
       "        65000.,  70000., 190000.,  40000., 120000.,  95000., 160000.,\n",
       "       100000., 180000.,  55000.,  70000.,  80000.,  30000., 250000.,\n",
       "        40000.,  95000.,  45000.,  80000., 135000.,  55000., 120000.,\n",
       "        40000., 105000., 170000.,  75000.,  65000., 160000.,  35000.,\n",
       "        90000., 110000.,  45000.,  95000., 150000.,  50000.,  80000.,\n",
       "       220000.,  50000.,  60000., 100000.,  40000., 110000.,  95000.,\n",
       "       130000.,  90000.,  35000.,  95000.,  65000., 170000.,  45000.,\n",
       "       120000., 100000., 180000.,  50000.,  80000., 140000.,  40000.,\n",
       "        95000., 110000.,  50000., 105000., 160000.,  45000., 100000.,\n",
       "       160000.,  35000.,  55000., 140000.,  50000.,  60000., 120000.,\n",
       "        40000., 110000.,  50000., 135000.,  40000.,  90000., 150000.,\n",
       "        60000.,  80000., 175000.,  45000., 120000., 140000.,  35000.,\n",
       "        95000., 110000.,  50000., 115000., 185000.,  40000.,  90000.,\n",
       "       175000.,  45000.,  80000., 120000.,  35000., 110000., 150000.,\n",
       "        50000., 105000., 180000.,  40000., 140000.,  45000.,  85000.,\n",
       "       140000.,  50000.,  80000., 170000.,  40000., 105000., 145000.,\n",
       "        40000.,  85000., 130000.,  95000., 100000., 180000.,  35000.,\n",
       "        95000., 170000.,  45000.,  95000., 120000.,  40000.,  90000.,\n",
       "       155000.,  55000., 110000.])"
      ]
     },
     "execution_count": 33,
     "metadata": {},
     "output_type": "execute_result"
    }
   ],
   "source": [
    "q"
   ]
  },
  {
   "cell_type": "code",
   "execution_count": 34,
   "metadata": {},
   "outputs": [
    {
     "data": {
      "text/plain": [
       "array([ 63587.9273043 ,  50750.44079099, 127775.35987086,  76425.41381761,\n",
       "       159869.07615414,  44331.69753433, 108519.13010089,  57169.18404765,\n",
       "        37912.95427768,  95681.64358758,  50750.44079099, 147031.58964083,\n",
       "        70006.67056096, 121356.6166142 ,  44331.69753433, 134194.10312752,\n",
       "        76425.41381761, 108519.13010089,  31494.21102102, 172706.56266745,\n",
       "        63587.9273043 , 153450.33289748,  44331.69753433,  89262.90033093,\n",
       "       114937.87335755,  50750.44079099, 102100.38684424,  37912.95427768,\n",
       "       127775.35987086,  70006.67056096, 191962.79243742,  57169.18404765,\n",
       "        50750.44079099,  95681.64358758, 159869.07615414,  44331.69753433,\n",
       "        76425.41381761, 121356.6166142 ,  37912.95427768, 166287.8194108 ,\n",
       "        63587.9273043 , 147031.58964083,  50750.44079099,  82844.15707427,\n",
       "       114937.87335755,  44331.69753433,  63587.9273043 , 134194.10312752,\n",
       "       102100.38684424,  31494.21102102, 172706.56266745,  76425.41381761,\n",
       "       108519.13010089, 153450.33289748,  50750.44079099,  89262.90033093,\n",
       "        44331.69753433, 140612.84638417,  57169.18404765,  76425.41381761,\n",
       "       179125.30592411,  50750.44079099, 108519.13010089, 166287.8194108 ,\n",
       "        37912.95427768,  95681.64358758, 153450.33289748,  63587.9273043 ,\n",
       "        82844.15707427, 147031.58964083,  70006.67056096, 102100.38684424,\n",
       "       134194.10312752,  44331.69753433, 121356.6166142 ,  95681.64358758,\n",
       "       172706.56266745,  70006.67056096, 159869.07615414,  50750.44079099,\n",
       "        82844.15707427, 114937.87335755,  31494.21102102, 185544.04918076,\n",
       "        44331.69753433,  95681.64358758,  44331.69753433, 127775.35987086,\n",
       "       166287.8194108 ,  70006.67056096, 102100.38684424,  50750.44079099,\n",
       "       147031.58964083, 191962.79243742,  76425.41381761, 108519.13010089,\n",
       "       172706.56266745,  37912.95427768,  95681.64358758, 159869.07615414,\n",
       "        63587.9273043 ,  82844.15707427, 153450.33289748,  63587.9273043 ,\n",
       "       114937.87335755, 134194.10312752,  50750.44079099,  76425.41381761,\n",
       "       121356.6166142 ,  44331.69753433, 127775.35987086,  89262.90033093,\n",
       "       172706.56266745,  70006.67056096,  34703.58264935,  70006.67056096,\n",
       "       127775.35987086, 159869.07615414,  50750.44079099,  95681.64358758,\n",
       "       140612.84638417, 191962.79243742,  63587.9273043 , 102100.38684424,\n",
       "       134194.10312752,  44331.69753433,  89262.90033093, 147031.58964083,\n",
       "        57169.18404765,  82844.15707427, 166287.8194108 ,  50750.44079099,\n",
       "       108519.13010089, 172706.56266745,  37912.95427768,  95681.64358758,\n",
       "       153450.33289748,  57169.18404765,  76425.41381761, 121356.6166142 ,\n",
       "        44331.69753433, 114937.87335755,  63587.9273043 , 159869.07615414,\n",
       "        41122.32590601,  82844.15707427, 134194.10312752,  57169.18404765,\n",
       "        95681.64358758, 153450.33289748,  50750.44079099, 102100.38684424,\n",
       "       147031.58964083,  44331.69753433,  89262.90033093, 121356.6166142 ,\n",
       "        63587.9273043 ,  76425.41381761, 179125.30592411,  44331.69753433,\n",
       "       108519.13010089, 166287.8194108 ,  50750.44079099,  76425.41381761,\n",
       "       114937.87335755,  41122.32590601, 121356.6166142 , 147031.58964083,\n",
       "        57169.18404765,  89262.90033093, 159869.07615414,  44331.69753433,\n",
       "       134194.10312752,  41122.32590601,  76425.41381761, 147031.58964083,\n",
       "        57169.18404765,  95681.64358758, 159869.07615414,  44331.69753433,\n",
       "        89262.90033093, 127775.35987086,  44331.69753433,  82844.15707427,\n",
       "       121356.6166142 ,  70006.67056096,  89262.90033093, 172706.56266745,\n",
       "        41122.32590601, 108519.13010089, 153450.33289748,  50750.44079099,\n",
       "        76425.41381761, 114937.87335755,  44331.69753433, 102100.38684424,\n",
       "       140612.84638417,  63587.9273043 ,  89262.90033093])"
      ]
     },
     "execution_count": 34,
     "metadata": {},
     "output_type": "execute_result"
    }
   ],
   "source": [
    "z_pridict"
   ]
  },
  {
   "cell_type": "code",
   "execution_count": 37,
   "metadata": {},
   "outputs": [
    {
     "data": {
      "text/plain": [
       "array([ 26412.0726957 ,  14249.55920901,  22224.64012914, -16425.41381761,\n",
       "        40130.92384586,  10668.30246567,  11480.86989911,  22830.81595235,\n",
       "         7087.04572232,  14318.35641242,  24249.55920901,  -7031.58964083,\n",
       "        -5006.67056096,   8643.3833858 ,  -4331.69753433,  -9194.10312752,\n",
       "        13574.58618239,   6480.86989911,   3505.78897898,   7293.43733255,\n",
       "        16412.0726957 ,  36549.66710252,   5668.30246567, -29262.90033093,\n",
       "        25062.12664245,  -5750.44079099,   7899.61315576,   2087.04572232,\n",
       "        12224.64012914,  19993.32943904,  58037.20756258,  -2169.18404765,\n",
       "        24249.55920901, -30681.64358758,  10130.92384586,    668.30246567,\n",
       "       -16425.41381761,  -6356.6166142 ,   2087.04572232,  -6287.8194108 ,\n",
       "        16412.0726957 ,  42968.41035917,   9249.55920901, -37844.15707427,\n",
       "        15062.12664245,  -4331.69753433,  11412.0726957 ,  45805.89687248,\n",
       "        17899.61315576,   3505.78897898, -42706.56266745,   8574.58618239,\n",
       "       -48519.13010089,  46549.66710252,   -750.44079099,   5737.09966907,\n",
       "        20668.30246567,   -612.84638417,  -2169.18404765,  28574.58618239,\n",
       "        -9125.30592411,   -750.44079099, -28519.13010089,  13712.1805892 ,\n",
       "        -2912.95427768,  -5681.64358758, -33450.33289748, -18587.9273043 ,\n",
       "         7155.84292573,   2968.41035917,  -5006.67056096, -32100.38684424,\n",
       "        55805.89687248,  -4331.69753433,  -1356.6166142 ,   -681.64358758,\n",
       "       -12706.56266745,  29993.32943904,  20130.92384586,   4249.55920901,\n",
       "       -12844.15707427, -34937.87335755,  -1494.21102102,  64455.95081924,\n",
       "        -4331.69753433,   -681.64358758,    668.30246567, -47775.35987086,\n",
       "       -31287.8194108 , -15006.67056096,  17899.61315576, -10750.44079099,\n",
       "       -42031.58964083, -21962.79243742,  -1425.41381761, -43519.13010089,\n",
       "       -12706.56266745,  -2912.95427768,  -5681.64358758, -49869.07615414,\n",
       "       -18587.9273043 ,  12155.84292573,  -3450.33289748, -13587.9273043 ,\n",
       "       -34937.87335755,  85805.89687248,   -750.44079099, -16425.41381761,\n",
       "       -21356.6166142 ,  -4331.69753433, -17775.35987086,   5737.09966907,\n",
       "       -42706.56266745,  19993.32943904,    296.41735065,  24993.32943904,\n",
       "       -62775.35987086,  10130.92384586,  -5750.44079099,  24318.35641242,\n",
       "       -40612.84638417, -11962.79243742, -13587.9273043 , -22100.38684424,\n",
       "         5805.89687248,  -4331.69753433,   5737.09966907, -37031.58964083,\n",
       "        -7169.18404765,  22155.84292573,  -6287.8194108 ,  -5750.44079099,\n",
       "        -8519.13010089, -12706.56266745,  -2912.95427768, -40681.64358758,\n",
       "       -13450.33289748,  -7169.18404765, -16425.41381761,  -1356.6166142 ,\n",
       "        -4331.69753433,  -4937.87335755, -13587.9273043 , -24869.07615414,\n",
       "        -1122.32590601,   7155.84292573,  15805.89687248,   2830.81595235,\n",
       "       -15681.64358758,  21549.66710252,  -5750.44079099,  17899.61315576,\n",
       "        -7031.58964083,  -9331.69753433,   5737.09966907, -11356.6166142 ,\n",
       "       -13587.9273043 ,  38574.58618239,   5874.69407589,  -4331.69753433,\n",
       "       -18519.13010089,   8712.1805892 ,  -5750.44079099,   3574.58618239,\n",
       "         5062.12664245,  -6122.32590601, -11356.6166142 ,   2968.41035917,\n",
       "        -7169.18404765,  15737.09966907,  20130.92384586,  -4331.69753433,\n",
       "         5805.89687248,   3877.67409399,   8574.58618239,  -7031.58964083,\n",
       "        -7169.18404765, -15681.64358758,  10130.92384586,  -4331.69753433,\n",
       "        15737.09966907,  17224.64012914,  -4331.69753433,   2155.84292573,\n",
       "         8643.3833858 ,  24993.32943904,  10737.09966907,   7293.43733255,\n",
       "        -6122.32590601, -13519.13010089,  16549.66710252,  -5750.44079099,\n",
       "        18574.58618239,   5062.12664245,  -4331.69753433, -12100.38684424,\n",
       "        14387.15361583,  -8587.9273043 ,  20737.09966907])"
      ]
     },
     "execution_count": 37,
     "metadata": {},
     "output_type": "execute_result"
    }
   ],
   "source": [
    "error_01=q-z_pridict\n",
    "error_01"
   ]
  },
  {
   "cell_type": "code",
   "execution_count": 39,
   "metadata": {},
   "outputs": [
    {
     "data": {
      "text/plain": [
       "array([6.97597584e+08, 2.03049938e+08, 4.93934629e+08, 2.69794219e+08,\n",
       "       1.61049105e+09, 1.13812677e+08, 1.31810374e+08, 5.21246157e+08,\n",
       "       5.02262171e+07, 2.05015330e+08, 5.88041122e+08, 4.94432529e+07,\n",
       "       2.50667501e+07, 7.47080764e+07, 1.87636035e+07, 8.45315323e+07,\n",
       "       1.84269390e+08, 4.20016746e+07, 1.22905564e+07, 5.31942281e+07,\n",
       "       2.69356130e+08, 1.33587817e+09, 3.21296528e+07, 8.56317336e+08,\n",
       "       6.28110192e+08, 3.30675693e+07, 6.24038880e+07, 4.35575985e+06,\n",
       "       1.49441826e+08, 3.99733222e+08, 3.36831746e+09, 4.70535943e+06,\n",
       "       5.88041122e+08, 9.41363253e+08, 1.02635618e+08, 4.46628186e+05,\n",
       "       2.69794219e+08, 4.04065748e+07, 4.35575985e+06, 3.95366729e+07,\n",
       "       2.69356130e+08, 1.84628429e+09, 8.55543456e+07, 1.43218022e+09,\n",
       "       2.26867659e+08, 1.87636035e+07, 1.30235403e+08, 2.09818019e+09,\n",
       "       3.20396151e+08, 1.22905564e+07, 1.82385049e+09, 7.35235282e+07,\n",
       "       2.35410599e+09, 2.16687151e+09, 5.63161381e+05, 3.29143126e+07,\n",
       "       4.27178727e+08, 3.75580691e+05, 4.70535943e+06, 8.16506975e+08,\n",
       "       8.32712082e+07, 5.63161381e+05, 8.13340782e+08, 1.88023897e+08,\n",
       "       8.48530262e+06, 3.22810739e+07, 1.11892477e+09, 3.45511041e+08,\n",
       "       5.12060880e+07, 8.81146006e+06, 2.50667501e+07, 1.03043484e+09,\n",
       "       3.11429813e+09, 1.87636035e+07, 1.84040864e+06, 4.64637980e+05,\n",
       "       1.61456735e+08, 8.99599811e+08, 4.05254095e+08, 1.80587535e+07,\n",
       "       1.64972371e+08, 1.22065499e+09, 2.23266658e+06, 4.15456960e+09,\n",
       "       1.87636035e+07, 4.64637980e+05, 4.46628186e+05, 2.28248501e+09,\n",
       "       9.78927643e+08, 2.25200161e+08, 3.20396151e+08, 1.15571977e+08,\n",
       "       1.76665453e+09, 4.82364252e+08, 2.03180455e+06, 1.89391468e+09,\n",
       "       1.61456735e+08, 8.48530262e+06, 3.22810739e+07, 2.48692476e+09,\n",
       "       3.45511041e+08, 1.47764517e+08, 1.19047971e+07, 1.84631768e+08,\n",
       "       1.22065499e+09, 7.36265194e+09, 5.63161381e+05, 2.69794219e+08,\n",
       "       4.56105073e+08, 1.87636035e+07, 3.15963419e+08, 3.29143126e+07,\n",
       "       1.82385049e+09, 3.99733222e+08, 8.78632458e+04, 6.24666516e+08,\n",
       "       3.94074581e+09, 1.02635618e+08, 3.30675693e+07, 5.91382459e+08,\n",
       "       1.64940329e+09, 1.43108403e+08, 1.84631768e+08, 4.88427099e+08,\n",
       "       3.37084385e+07, 1.87636035e+07, 3.29143126e+07, 1.37133863e+09,\n",
       "       5.13971999e+07, 4.90881376e+08, 3.95366729e+07, 3.30675693e+07,\n",
       "       7.25755777e+07, 1.61456735e+08, 8.48530262e+06, 1.65499612e+09,\n",
       "       1.80911455e+08, 5.13971999e+07, 2.69794219e+08, 1.84040864e+06,\n",
       "       1.87636035e+07, 2.43825933e+07, 1.84631768e+08, 6.18470949e+08,\n",
       "       1.25961544e+06, 5.12060880e+07, 2.49826376e+08, 8.01351896e+06,\n",
       "       2.45913946e+08, 4.64388152e+08, 3.30675693e+07, 3.20396151e+08,\n",
       "       4.94432529e+07, 8.70805789e+07, 3.29143126e+07, 1.28972741e+08,\n",
       "       1.84631768e+08, 1.48799870e+09, 3.45120305e+07, 1.87636035e+07,\n",
       "       3.42958180e+08, 7.59020906e+07, 3.30675693e+07, 1.27776664e+07,\n",
       "       2.56251261e+07, 3.74828745e+07, 1.28972741e+08, 8.81146006e+06,\n",
       "       5.13971999e+07, 2.47656306e+08, 4.05254095e+08, 1.87636035e+07,\n",
       "       3.37084385e+07, 1.50363564e+07, 7.35235282e+07, 4.94432529e+07,\n",
       "       5.13971999e+07, 2.45913946e+08, 1.02635618e+08, 1.87636035e+07,\n",
       "       2.47656306e+08, 2.96688228e+08, 1.87636035e+07, 4.64765872e+06,\n",
       "       7.47080764e+07, 6.24666516e+08, 1.15285309e+08, 5.31942281e+07,\n",
       "       3.74828745e+07, 1.82766879e+08, 2.73891481e+08, 3.30675693e+07,\n",
       "       3.45015252e+08, 2.56251261e+07, 1.87636035e+07, 1.46419362e+08,\n",
       "       2.06990189e+08, 7.37524954e+07, 4.30027303e+08])"
      ]
     },
     "execution_count": 39,
     "metadata": {},
     "output_type": "execute_result"
    }
   ],
   "source": [
    "square_error=np.square(error_01)\n",
    "square_error"
   ]
  },
  {
   "cell_type": "code",
   "execution_count": 41,
   "metadata": {},
   "outputs": [
    {
     "data": {
      "text/plain": [
       "440201065.7690647"
      ]
     },
     "execution_count": 41,
     "metadata": {},
     "output_type": "execute_result"
    }
   ],
   "source": [
    "mean_square_error=np.mean(square_error)\n",
    "mean_square_error"
   ]
  },
  {
   "cell_type": "code",
   "execution_count": 43,
   "metadata": {},
   "outputs": [
    {
     "data": {
      "text/plain": [
       "440201065.0"
      ]
     },
     "execution_count": 43,
     "metadata": {},
     "output_type": "execute_result"
    }
   ],
   "source": [
    "# without mean :-\n",
    "sum(square_error)//z_pridict.shape[0]"
   ]
  },
  {
   "cell_type": "code",
   "execution_count": null,
   "metadata": {},
   "outputs": [],
   "source": []
  }
 ],
 "metadata": {
  "kernelspec": {
   "display_name": "Python 3 (ipykernel)",
   "language": "python",
   "name": "python3"
  },
  "language_info": {
   "codemirror_mode": {
    "name": "ipython",
    "version": 3
   },
   "file_extension": ".py",
   "mimetype": "text/x-python",
   "name": "python",
   "nbconvert_exporter": "python",
   "pygments_lexer": "ipython3",
   "version": "3.10.9"
  }
 },
 "nbformat": 4,
 "nbformat_minor": 4
}
